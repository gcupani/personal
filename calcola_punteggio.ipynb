{
 "cells": [
  {
   "cell_type": "markdown",
   "metadata": {},
   "source": [
    "# Calcola il punteggio in base al periodo di servizio"
   ]
  },
  {
   "cell_type": "markdown",
   "metadata": {},
   "source": [
    "* Modificare la casella `Dati del docente`. **Non** modificare la casella `Calcolo`. \n",
    "* Si possono inserire più periodi, come nell'esempio: `['30/01/21-28/02/21', '30/03/21-30/04/21']`. \n",
    "* Una volta completato, cliccare su `Calcola`. Il risultato apparirà in calce."
   ]
  },
  {
   "cell_type": "markdown",
   "metadata": {},
   "source": [
    "#### Dati del docente:"
   ]
  },
  {
   "cell_type": "code",
   "execution_count": 1,
   "metadata": {},
   "outputs": [],
   "source": [
    "nome = 'Pinco'\n",
    "cognome = 'Pallino'\n",
    "periodi = ['15/05/19-28/06/19','26/09/19-30/06/20']"
   ]
  },
  {
   "cell_type": "markdown",
   "metadata": {},
   "source": [
    "#### Calcolo:"
   ]
  },
  {
   "cell_type": "code",
   "execution_count": 2,
   "metadata": {},
   "outputs": [
    {
     "data": {
      "text/html": [
       "\n",
       "            <script>\n",
       "                code_show = false;\n",
       "                function restart_run_all(){\n",
       "                    IPython.notebook.kernel.restart();\n",
       "                    setTimeout(function(){\n",
       "                        IPython.notebook.execute_all_cells();\n",
       "                    }, 10000)\n",
       "                }\n",
       "            </script>\n",
       "            <button onclick=\"restart_run_all()\">Calcola</button>\n",
       "        "
      ],
      "text/plain": [
       "<IPython.core.display.HTML object>"
      ]
     },
     "metadata": {},
     "output_type": "display_data"
    },
    {
     "name": "stdout",
     "output_type": "stream",
     "text": [
      "Pinco Pallino ha guadagnato 14 punti!\n",
      " Giorni di servizio:     324\n",
      " Anni a punteggio pieno:  1 × 12 = 12 +\n",
      " Mesi aggiuntivi:         1 ×  2 =  2 +\n",
      " Giorni aggiuntivi:      15 < 16 =  0 =\n",
      "                                  ----\n",
      "                                   14\n"
     ]
    }
   ],
   "source": [
    "%run punteggio.py\n",
    "calcola(nome, cognome, periodi)"
   ]
  },
  {
   "cell_type": "markdown",
   "metadata": {},
   "source": [
    "© Guido Cupani, 2021 – guido.cupani(at)gmail.com\n",
    "\n",
    "DISCLAIMER: Il software è offerto senza alcuna garanzia riguardo all'affidabilità e all'accuratezza dei risultati.\\\n",
    "Lo sviluppatore declina qualsiasi responsabilità derivante dal suo utilizzo da parte di terzi."
   ]
  }
 ],
 "metadata": {
  "kernelspec": {
   "display_name": "Python 3",
   "language": "python",
   "name": "python3"
  },
  "language_info": {
   "codemirror_mode": {
    "name": "ipython",
    "version": 3
   },
   "file_extension": ".py",
   "mimetype": "text/x-python",
   "name": "python",
   "nbconvert_exporter": "python",
   "pygments_lexer": "ipython3",
   "version": "3.7.4"
  }
 },
 "nbformat": 4,
 "nbformat_minor": 2
}
