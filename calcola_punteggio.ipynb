{
 "cells": [
  {
   "cell_type": "markdown",
   "metadata": {},
   "source": [
    "# Calcola il punteggio in base al periodo di servizio"
   ]
  },
  {
   "cell_type": "markdown",
   "metadata": {},
   "source": [
    "* Modificare la casella `Dati del docente`. **Non** modificare la casella `Calcolo`. \n",
    "* Si possono inserire più periodi, come nell'esempio: `['30/01/21-28/02/21', '30/03/21-30/04/21']`. \n",
    "* Una volta completato, cliccare su `Calcola`. Il risultato apparirà in calce."
   ]
  },
  {
   "cell_type": "markdown",
   "metadata": {},
   "source": [
    "#### Dati del docente:"
   ]
  },
  {
   "cell_type": "code",
   "execution_count": 1,
   "metadata": {},
   "outputs": [],
   "source": [
    "nome = 'Pinco Pallino'\n",
    "periodi = ['14/11/17-14/11/17', '02/11/17-03/11/17', '05/12/17-07/12/17', '19/09/18-04/10/18', '10/10/16-22/12/16', \n",
    "           '02/10/17-12/10/17', '23/12/16-30/06/17', '18/10/18-30/06/19', '18/09/19-30/06/20', '23/04/18-24/04/18',\n",
    "           '05/10/18-15/10/18', '30/05/18-30/05/18', '30/10/17-31/10/17']"
   ]
  },
  {
   "cell_type": "markdown",
   "metadata": {},
   "source": [
    "#### Calcolo:"
   ]
  },
  {
   "cell_type": "code",
   "execution_count": 2,
   "metadata": {},
   "outputs": [
    {
     "data": {
      "text/html": [
       "\n",
       "            <script>\n",
       "                code_show = false;\n",
       "                function restart_run_all(){\n",
       "                    IPython.notebook.kernel.restart();\n",
       "                    setTimeout(function(){\n",
       "                        IPython.notebook.execute_all_cells();\n",
       "                    }, 10000)\n",
       "                }\n",
       "            </script>\n",
       "            <button onclick=\"restart_run_all()\">Calcola</button>\n",
       "        "
      ],
      "text/plain": [
       "<IPython.core.display.HTML object>"
      ]
     },
     "metadata": {},
     "output_type": "display_data"
    },
    {
     "name": "stdout",
     "output_type": "stream",
     "text": [
      "2016-2017: 264 giorni, 12 punti\n",
      "2017-2018:  22 giorni,  2 punti\n",
      "2018-2019: 283 giorni, 12 punti\n",
      "2019-2020: 287 giorni, 12 punti\n",
      "Pinco Pallino ha guadagnato 38 punti!\n"
     ]
    }
   ],
   "source": [
    "%run punteggio.py\n",
    "calcola(nome, periodi)"
   ]
  },
  {
   "cell_type": "markdown",
   "metadata": {},
   "source": [
    "© Guido Cupani, 2021 – guido.cupani(at)gmail.com\n",
    "\n",
    "DISCLAIMER: Il software è offerto senza alcuna garanzia riguardo all'affidabilità e all'accuratezza dei risultati.\\\n",
    "Lo sviluppatore declina qualsiasi responsabilità derivante dal suo utilizzo da parte di terzi."
   ]
  }
 ],
 "metadata": {
  "kernelspec": {
   "display_name": "Python 3",
   "language": "python",
   "name": "python3"
  },
  "language_info": {
   "codemirror_mode": {
    "name": "ipython",
    "version": 3
   },
   "file_extension": ".py",
   "mimetype": "text/x-python",
   "name": "python",
   "nbconvert_exporter": "python",
   "pygments_lexer": "ipython3",
   "version": "3.7.4"
  }
 },
 "nbformat": 4,
 "nbformat_minor": 2
}
