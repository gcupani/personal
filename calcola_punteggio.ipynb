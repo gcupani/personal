{
 "cells": [
  {
   "cell_type": "markdown",
   "metadata": {},
   "source": [
    "# Calcola il punteggio in base al periodo di servizio"
   ]
  },
  {
   "cell_type": "markdown",
   "metadata": {},
   "source": [
    "* Modificare le caselle `Nome e cognome`, `Data di inizio`, `Data di fine`. **Non** modificare la casella `Calcolo`. \n",
    "* Si possono inserire più date di inizio e fine, scrivendole fra apici e separate da virgole dentro le parentesi quadre (ad es. `['2020-01-01', '2020-02-02']`). Se si inseriscono più date, fare attenzione che ogni data di inizio corrisponda a una data di fine. \n",
    "* Una volta completato, cliccare su `Kernel` > `Restart & Run All` nella barra in alto. Il risultato apparirà sotto la casella `Calcolo`."
   ]
  },
  {
   "cell_type": "markdown",
   "metadata": {},
   "source": [
    "#### Nome e cognome:"
   ]
  },
  {
   "cell_type": "code",
   "execution_count": 1,
   "metadata": {},
   "outputs": [],
   "source": [
    "nome = 'Pinco'\n",
    "cognome = 'Pallino'"
   ]
  },
  {
   "cell_type": "markdown",
   "metadata": {},
   "source": [
    "#### Data di inizio:"
   ]
  },
  {
   "cell_type": "code",
   "execution_count": 2,
   "metadata": {},
   "outputs": [],
   "source": [
    "inizio = ['2019-11-27']"
   ]
  },
  {
   "cell_type": "markdown",
   "metadata": {},
   "source": [
    "#### Data di fine:"
   ]
  },
  {
   "cell_type": "code",
   "execution_count": 3,
   "metadata": {},
   "outputs": [],
   "source": [
    "fine = ['2020-01-03']"
   ]
  },
  {
   "cell_type": "markdown",
   "metadata": {},
   "source": [
    "#### Calcolo:"
   ]
  },
  {
   "cell_type": "code",
   "execution_count": 4,
   "metadata": {},
   "outputs": [
    {
     "name": "stdout",
     "output_type": "stream",
     "text": [
      "Pinco Pallino ha guadagnato 2 punti!\n"
     ]
    }
   ],
   "source": [
    "%run punteggio.py\n",
    "calcola(nome, cognome, inizio, fine)"
   ]
  }
 ],
 "metadata": {
  "kernelspec": {
   "display_name": "Python 3",
   "language": "python",
   "name": "python3"
  },
  "language_info": {
   "codemirror_mode": {
    "name": "ipython",
    "version": 3
   },
   "file_extension": ".py",
   "mimetype": "text/x-python",
   "name": "python",
   "nbconvert_exporter": "python",
   "pygments_lexer": "ipython3",
   "version": "3.7.4"
  }
 },
 "nbformat": 4,
 "nbformat_minor": 2
}
