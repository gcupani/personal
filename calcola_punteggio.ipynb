{
 "cells": [
  {
   "cell_type": "markdown",
   "metadata": {},
   "source": [
    "# Calcola il punteggio in base al periodo di servizio"
   ]
  },
  {
   "cell_type": "markdown",
   "metadata": {},
   "source": [
    "* Modificare la casella `Dati del docente`. **Non** modificare la casella `Calcolo`. \n",
    "* Si possono inserire più periodi, come nell'esempio: `['30/01/21-28/02/21', '30/03/21-30/04/21']`. \n",
    "* In alternativa, è possibile importare i periodi da un file Excel. In tal caso, i periodi inseriti manualmente vengono ignorati. Se non si vuole usare il file Excel, lasciarlo definito come `None`.\n",
    "* Una volta completato, cliccare su `Calcola`. Il risultato apparirà in calce."
   ]
  },
  {
   "cell_type": "markdown",
   "metadata": {},
   "source": [
    "#### Dati del docente:"
   ]
  },
  {
   "cell_type": "code",
   "execution_count": 1,
   "metadata": {},
   "outputs": [],
   "source": [
    "nome = 'Pinco Pallino'\n",
    "classi = ['AD24']\n",
    "periodi = ['15/11/18-24/12/18']\n",
    "file_excel = None #'/Users/guido/Dropbox/GitHub/personal/punteggio_test.xlsx'"
   ]
  },
  {
   "cell_type": "markdown",
   "metadata": {},
   "source": [
    "#### Calcolo:"
   ]
  },
  {
   "cell_type": "code",
   "execution_count": 2,
   "metadata": {},
   "outputs": [
    {
     "data": {
      "text/html": [
       "\n",
       "            <script>\n",
       "                code_show = false;\n",
       "                function restart_run_all(){\n",
       "                    IPython.notebook.kernel.restart();\n",
       "                    setTimeout(function(){\n",
       "                        IPython.notebook.execute_all_cells();\n",
       "                    }, 10000)\n",
       "                }\n",
       "            </script>\n",
       "            <button onclick=\"restart_run_all()\">Calcola</button>\n",
       "        "
      ],
      "text/plain": [
       "<IPython.core.display.HTML object>"
      ]
     },
     "metadata": {},
     "output_type": "display_data"
    },
    {
     "name": "stdout",
     "output_type": "stream",
     "text": [
      "┌───────────────────┬────────┬───────────┬────────┐\n",
      "│ Periodo           │ Durata │ Anno      │ Classe │\n",
      "├───────────────────┼────────┼───────────┼────────┤\n",
      "│ 15/11/18-24/12/18 │  40 gg │ 2018-2019 │ AD24   │\n",
      "│ 07/01/19-14/02/19 │  39 gg │ 2018-2019 │ AD24   │\n",
      "│ 20/03/19-29/06/19 │ 102 gg │ 2018-2019 │ AD24   │\n",
      "│ 20/09/19-23/09/19 │   4 gg │ 2019-2020 │ AD24   │\n",
      "│ 24/09/19-30/06/20 │ 281 gg │ 2019-2020 │ AD24   │\n",
      "│ 25/09/20-14/05/21 │ 232 gg │ 2020-2021 │ AD24   │\n",
      "└───────────────────┴────────┴───────────┴────────┘\n",
      "┌───────────┬───────────────┐\n",
      "│ Anno      │ AD24          │ \n",
      "├───────────┼───────────────┤\n",
      "│ 2018-2019 │ 181 gg, 12 pp │ \n",
      "│ 2019-2020 │ 285 gg, 12 pp │ \n",
      "│ 2020-2021 │ 232 gg, 12 pp │ \n",
      "├───────────┼───────────────┤\n",
      "│ Totale    │ 698 gg, 36 pp │ \n",
      "└───────────┴───────────────┘\n"
     ]
    }
   ],
   "source": [
    "%run punteggio.py\n",
    "calcola(nome, classi, periodi, file_excel)"
   ]
  },
  {
   "cell_type": "markdown",
   "metadata": {},
   "source": [
    "© Guido Cupani, 2021 – guido.cupani(at)gmail.com\n",
    "\n",
    "DISCLAIMER: Il software è offerto senza alcuna garanzia riguardo all'affidabilità e all'accuratezza dei risultati.\\\n",
    "Lo sviluppatore declina qualsiasi responsabilità derivante dal suo utilizzo da parte di terzi."
   ]
  }
 ],
 "metadata": {
  "kernelspec": {
   "display_name": "Python 3",
   "language": "python",
   "name": "python3"
  },
  "language_info": {
   "codemirror_mode": {
    "name": "ipython",
    "version": 3
   },
   "file_extension": ".py",
   "mimetype": "text/x-python",
   "name": "python",
   "nbconvert_exporter": "python",
   "pygments_lexer": "ipython3",
   "version": "3.7.4"
  }
 },
 "nbformat": 4,
 "nbformat_minor": 2
}
